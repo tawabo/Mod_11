{
 "cells": [
  {
   "cell_type": "code",
   "execution_count": null,
   "id": "8b57230a-3ea5-4c83-9f54-ef78cd5b7354",
   "metadata": {},
   "outputs": [],
   "source": [
    "print(1+1)"
   ]
  },
  {
   "cell_type": "code",
   "execution_count": null,
   "id": "bba54959-88f6-4f6d-9e14-40588dcadceb",
   "metadata": {},
   "outputs": [],
   "source": []
  }
 ],
 "metadata": {
  "kernelspec": {
   "display_name": "Python 3",
   "language": "python",
   "name": "python3"
  },
  "language_info": {
   "name": ""
  }
 },
 "nbformat": 4,
 "nbformat_minor": 5
}
